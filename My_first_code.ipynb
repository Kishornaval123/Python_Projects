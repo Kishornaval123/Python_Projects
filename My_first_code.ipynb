{
 "cells": [
  {
   "cell_type": "code",
   "execution_count": 1,
   "id": "412c6ab5-948c-47d2-a3f7-be37c0aa3e68",
   "metadata": {},
   "outputs": [
    {
     "name": "stdout",
     "output_type": "stream",
     "text": [
      "hello bhai\n"
     ]
    }
   ],
   "source": [
    "print('hello bhai')"
   ]
  },
  {
   "cell_type": "code",
   "execution_count": 1,
   "id": "25b2dde5-e1d8-4c42-99aa-e318b6d88de6",
   "metadata": {},
   "outputs": [
    {
     "name": "stdout",
     "output_type": "stream",
     "text": [
      "Hello World\n"
     ]
    }
   ],
   "source": [
    "print(\"Hello World\")\n"
   ]
  },
  {
   "cell_type": "markdown",
   "id": "d576ce22-7ac1-4b36-9b6d-751a7abd1b43",
   "metadata": {},
   "source": [
    "#My First Code\n"
   ]
  },
  {
   "cell_type": "code",
   "execution_count": 2,
   "id": "3666eefd-8a4a-473c-a08c-78d539e0d00c",
   "metadata": {},
   "outputs": [
    {
     "name": "stdout",
     "output_type": "stream",
     "text": [
      "22\n"
     ]
    }
   ],
   "source": [
    "x= 22\n",
    "print(x)\n"
   ]
  },
  {
   "cell_type": "code",
   "execution_count": 3,
   "id": "e1b75e91-5ae4-4567-8d9f-367f38713337",
   "metadata": {},
   "outputs": [
    {
     "name": "stdout",
     "output_type": "stream",
     "text": [
      "24\n"
     ]
    }
   ],
   "source": [
    "x=23\n",
    "print(x+1)"
   ]
  },
  {
   "cell_type": "code",
   "execution_count": 4,
   "id": "dde0f86b-8fb5-425a-9233-ebce591bb85e",
   "metadata": {},
   "outputs": [
    {
     "name": "stdout",
     "output_type": "stream",
     "text": [
      "23\n"
     ]
    }
   ],
   "source": [
    "print(x)"
   ]
  },
  {
   "cell_type": "code",
   "execution_count": 5,
   "id": "6773ef70-327f-4154-b22e-6ce1b8340978",
   "metadata": {},
   "outputs": [
    {
     "name": "stdout",
     "output_type": "stream",
     "text": [
      "46\n"
     ]
    }
   ],
   "source": [
    "print(x+x)"
   ]
  },
  {
   "cell_type": "code",
   "execution_count": 6,
   "id": "b524e2c9-67d9-49f8-b79a-053a7e14fcf9",
   "metadata": {},
   "outputs": [
    {
     "name": "stdout",
     "output_type": "stream",
     "text": [
      "50\n"
     ]
    }
   ],
   "source": [
    "print(100-50)"
   ]
  },
  {
   "cell_type": "code",
   "execution_count": 7,
   "id": "14bd6a9e-5d18-464e-9dbc-1651a60b976c",
   "metadata": {},
   "outputs": [
    {
     "data": {
      "text/plain": [
       "int"
      ]
     },
     "execution_count": 7,
     "metadata": {},
     "output_type": "execute_result"
    }
   ],
   "source": [
    "type(x)"
   ]
  },
  {
   "cell_type": "code",
   "execution_count": 15,
   "id": "bab3f36a-be00-41ce-acb4-5009be104ca1",
   "metadata": {},
   "outputs": [
    {
     "name": "stdout",
     "output_type": "stream",
     "text": [
      "Navalkishor\n"
     ]
    }
   ],
   "source": [
    "x= 'Naval'\n",
    "y= 'kishor'\n",
    "print(x+y)"
   ]
  },
  {
   "cell_type": "code",
   "execution_count": 16,
   "id": "dedb8f8e-b719-456b-8232-ca87f6670efe",
   "metadata": {},
   "outputs": [
    {
     "data": {
      "text/plain": [
       "str"
      ]
     },
     "execution_count": 16,
     "metadata": {},
     "output_type": "execute_result"
    }
   ],
   "source": [
    "type(x)"
   ]
  },
  {
   "cell_type": "code",
   "execution_count": 17,
   "id": "af4ae6db-cc04-4fbf-9d60-2ae6e6a7ff21",
   "metadata": {},
   "outputs": [
    {
     "name": "stdout",
     "output_type": "stream",
     "text": [
      "Naval kishor chaudhary\n"
     ]
    }
   ],
   "source": [
    "x= 'Naval'\n",
    "y= 'kishor'\n",
    "z= 'chaudhary'\n",
    "print(x,y,z)"
   ]
  },
  {
   "cell_type": "code",
   "execution_count": 20,
   "id": "f578373a-ccef-4bbf-8f39-264d1aa321c9",
   "metadata": {},
   "outputs": [
    {
     "name": "stdout",
     "output_type": "stream",
     "text": [
      "Naval\n",
      "kishor\n",
      "chaudhary\n"
     ]
    }
   ],
   "source": [
    "x, y, z= 'Naval', 'kishor', 'chaudhary'\n",
    "print(x)\n",
    "print(y)\n",
    "print(z)"
   ]
  },
  {
   "cell_type": "code",
   "execution_count": 23,
   "id": "ca5ea049-f6a4-4a7c-b689-235fabfb074e",
   "metadata": {},
   "outputs": [
    {
     "name": "stdout",
     "output_type": "stream",
     "text": [
      "    January 2016\n",
      "Mo Tu We Th Fr Sa Su\n",
      "             1  2  3\n",
      " 4  5  6  7  8  9 10\n",
      "11 12 13 14 15 16 17\n",
      "18 19 20 21 22 23 24\n",
      "25 26 27 28 29 30 31\n",
      "\n"
     ]
    }
   ],
   "source": [
    "import calendar\n",
    "cal= calendar.month(2016,1)\n",
    "print(cal)"
   ]
  },
  {
   "cell_type": "code",
   "execution_count": 24,
   "id": "985ad076-273e-4f09-a833-23e01e0fda21",
   "metadata": {},
   "outputs": [
    {
     "data": {
      "text/plain": [
       "True"
      ]
     },
     "execution_count": 24,
     "metadata": {},
     "output_type": "execute_result"
    }
   ],
   "source": [
    "calendar.isleap(2016)"
   ]
  },
  {
   "cell_type": "code",
   "execution_count": 25,
   "id": "e2dcacf6-b6b3-49b7-8d61-849e9c6f5d0a",
   "metadata": {},
   "outputs": [
    {
     "data": {
      "text/plain": [
       "4.0"
      ]
     },
     "execution_count": 25,
     "metadata": {},
     "output_type": "execute_result"
    }
   ],
   "source": [
    "import math\n",
    "math.sqrt(16)"
   ]
  },
  {
   "cell_type": "code",
   "execution_count": 26,
   "id": "bfbe7368-90d4-4c54-abad-338dd28ae6cb",
   "metadata": {},
   "outputs": [
    {
     "data": {
      "text/plain": [
       "32.0"
      ]
     },
     "execution_count": 26,
     "metadata": {},
     "output_type": "execute_result"
    }
   ],
   "source": [
    "math.pow(2,5)\n"
   ]
  },
  {
   "cell_type": "code",
   "execution_count": 28,
   "id": "efb02110-12a3-4eb1-ab62-69f8b502f319",
   "metadata": {},
   "outputs": [
    {
     "name": "stdout",
     "output_type": "stream",
     "text": [
      "ice-cream\n",
      "choclate\n",
      "biscuits\n"
     ]
    }
   ],
   "source": [
    " ice_cream= [ 'ice-cream', 'choclate', 'biscuits']\n",
    " x,y,z= ice_cream\n",
    "print(x)\n",
    "print(y)\n",
    "print(z)"
   ]
  },
  {
   "cell_type": "code",
   "execution_count": 44,
   "id": "814f4132-751e-4e7b-b12c-55136c9ed484",
   "metadata": {},
   "outputs": [
    {
     "name": "stdout",
     "output_type": "stream",
     "text": [
      "2\n",
      "10\n",
      "50\n",
      "250\n",
      "1250\n",
      "6250\n",
      "31250\n",
      "156250\n",
      "781250\n"
     ]
    }
   ],
   "source": [
    "i= 2 \n",
    "while i <=1000000:\n",
    "  print(i)\n",
    "  i= i*5"
   ]
  },
  {
   "cell_type": "code",
   "execution_count": 85,
   "id": "fd9118b1-6b5f-4676-891d-3b932c101623",
   "metadata": {},
   "outputs": [
    {
     "name": "stdout",
     "output_type": "stream",
     "text": [
      "16\n"
     ]
    }
   ],
   "source": [
    "for i in range(1,5):\n",
    "    if i/2==0:\n",
    "        continue\n",
    "print(i*i)\n"
   ]
  },
  {
   "cell_type": "code",
   "execution_count": 50,
   "id": "442eb45e-5973-4ad4-b215-e9022891f2b0",
   "metadata": {},
   "outputs": [
    {
     "name": "stdout",
     "output_type": "stream",
     "text": [
      "ice-cream\n"
     ]
    }
   ],
   "source": [
    "print(x)"
   ]
  },
  {
   "cell_type": "code",
   "execution_count": 70,
   "id": "8705353b-822e-4794-8d0a-206f9be65e77",
   "metadata": {},
   "outputs": [
    {
     "name": "stdout",
     "output_type": "stream",
     "text": [
      "1\n",
      "4\n",
      "9\n",
      "16\n",
      "25\n",
      "36\n",
      "49\n",
      "64\n",
      "81\n",
      "100\n"
     ]
    }
   ],
   "source": [
    "for a in range (1,11):\n",
    "    print(a*a)"
   ]
  },
  {
   "cell_type": "code",
   "execution_count": 86,
   "id": "279c10a3-ae39-4ac8-a667-1fdca12facb2",
   "metadata": {},
   "outputs": [
    {
     "data": {
      "image/png": "[encoded data removed]",
      "text/plain": [
       "<Figure size 640x480 with 1 Axes>"
      ]
     },
     "metadata": {},
     "output_type": "display_data"
    }
   ],
   "source": [
    "import matplotlib.pyplot as plt\n",
    "\n",
    "# Sample data\n",
    "x = [1, 2, 3, 4, 5]\n",
    "y = [2, 4, 6, 8, 10]\n",
    "\n",
    "# Plotting the data\n",
    "plt.plot(x, y)\n",
    "\n",
    "# Adding labels and title\n",
    "plt.xlabel('X-axis')\n",
    "plt.ylabel('Y-axis')\n",
    "plt.title('Simple Line Plot')\n",
    "\n",
    "# Displaying the plot\n",
    "plt.show()\n"
   ]
  },
  {
   "cell_type": "code",
   "execution_count": 87,
   "id": "ad202c78-cfb4-4365-9590-0c9f1d9eb5e0",
   "metadata": {},
   "outputs": [
    {
     "data": {
      "image/png": "[encoded data removed]",
      "text/plain": [
       "<Figure size 640x480 with 1 Axes>"
      ]
     },
     "metadata": {},
     "output_type": "display_data"
    }
   ],
   "source": [
    "import matplotlib.pyplot as plt\n",
    "\n",
    "# Data to plot\n",
    "labels = ['A', 'B', 'C', 'D']\n",
    "sizes = [15, 30, 45, 10]  # Sizes of each portion\n",
    "colors = ['gold', 'yellowgreen', 'lightcoral', 'lightskyblue']  # Colors for each portion\n",
    "explode = (0.1, 0, 0, 0)  # explode 1st slice (i.e., 'A')\n",
    "\n",
    "# Plot\n",
    "plt.pie(sizes, explode=explode, labels=labels, colors=colors, autopct='%1.1f%%', startangle=140)\n",
    "\n",
    "# Draw a circle at the center to make it a donut chart\n",
    "centre_circle = plt.Circle((0, 0), 0.70, fc='white')\n",
    "fig = plt.gcf()\n",
    "fig.gca().add_artist(centre_circle)\n",
    "\n",
    "# Equal aspect ratio ensures that pie is drawn as a circle\n",
    "plt.axis('equal')\n",
    "\n",
    "# Title\n",
    "plt.title('Donut Chart')\n",
    "\n",
    "# Show plot\n",
    "plt.show()\n"
   ]
  },
  {
   "cell_type": "code",
   "execution_count": 88,
   "id": "22db73ba-df66-481e-8688-341fcd4e4fde",
   "metadata": {},
   "outputs": [
    {
     "data": {
      "image/png": "[encoded data removed]",
      "text/plain": [
       "<Figure size 640x480 with 1 Axes>"
      ]
     },
     "metadata": {},
     "output_type": "display_data"
    }
   ],
   "source": [
    "import matplotlib.pyplot as plt\n",
    "\n",
    "# Data\n",
    "categories = ['A', 'B', 'C', 'D']\n",
    "values = [10, 20, 15, 25]\n",
    "\n",
    "# Plot\n",
    "plt.bar(categories, values, color='skyblue')\n",
    "\n",
    "# Labels and Title\n",
    "plt.xlabel('Categories')\n",
    "plt.ylabel('Values')\n",
    "plt.title('Bar Chart')\n",
    "\n",
    "# Show plot\n",
    "plt.show()\n"
   ]
  },
  {
   "cell_type": "code",
   "execution_count": 89,
   "id": "e6e3a731-8277-458f-8d49-804c19360f47",
   "metadata": {},
   "outputs": [
    {
     "data": {
      "image/png": "[encoded data removed]",
      "text/plain": [
       "<Figure size 640x480 with 1 Axes>"
      ]
     },
     "metadata": {},
     "output_type": "display_data"
    }
   ],
   "source": [
    "import matplotlib.pyplot as plt\n",
    "import numpy as np\n",
    "\n",
    "# Data\n",
    "data = np.random.randn(1000)\n",
    "\n",
    "# Plot\n",
    "plt.hist(data, bins=30, color='lightgreen', edgecolor='black')\n",
    "\n",
    "# Labels and Title\n",
    "plt.xlabel('Value')\n",
    "plt.ylabel('Frequency')\n",
    "plt.title('Histogram')\n",
    "\n",
    "# Show plot\n",
    "plt.show()\n",
    "\n"
   ]
  },
  {
   "cell_type": "code",
   "execution_count": 90,
   "id": "74500c22-e21a-4bde-82d3-383a2b79ab48",
   "metadata": {},
   "outputs": [
    {
     "data": {
      "image/png": "[encoded data removed]",
      "text/plain": [
       "<Figure size 640x480 with 1 Axes>"
      ]
     },
     "metadata": {},
     "output_type": "display_data"
    }
   ],
   "source": [
    "import matplotlib.pyplot as plt\n",
    "import numpy as np\n",
    "\n",
    "# Data\n",
    "x = np.random.rand(50)\n",
    "y = np.random.rand(50)\n",
    "\n",
    "# Plot\n",
    "plt.scatter(x, y, color='orange')\n",
    "\n",
    "# Labels and Title\n",
    "plt.xlabel('X-axis')\n",
    "plt.ylabel('Y-axis')\n",
    "plt.title('Scatter Plot')\n",
    "\n",
    "# Show plot\n",
    "plt.show()\n",
    "\n"
   ]
  },
  {
   "cell_type": "code",
   "execution_count": 91,
   "id": "3839095e-1d2c-4542-b531-9780652af9eb",
   "metadata": {},
   "outputs": [
    {
     "name": "stdout",
     "output_type": "stream",
     "text": [
      "DataFrame:\n",
      "      Name  Age         City\n",
      "0    Alice   25     New York\n",
      "1      Bob   30  Los Angeles\n",
      "2  Charlie   35      Chicago\n",
      "3    David   40      Houston\n",
      "\n",
      "Accessing specific columns:\n",
      "0      Alice\n",
      "1        Bob\n",
      "2    Charlie\n",
      "3      David\n",
      "Name: Name, dtype: object\n",
      "      Name         City\n",
      "0    Alice     New York\n",
      "1      Bob  Los Angeles\n",
      "2  Charlie      Chicago\n",
      "3    David      Houston\n",
      "\n",
      "Accessing specific rows:\n",
      "Name            Bob\n",
      "Age              30\n",
      "City    Los Angeles\n",
      "Name: 1, dtype: object\n",
      "Name    Charlie\n",
      "Age          35\n",
      "City    Chicago\n",
      "Name: 2, dtype: object\n",
      "\n",
      "DataFrame with a new column 'Gender':\n",
      "      Name  Age         City  Gender\n",
      "0    Alice   25     New York  Female\n",
      "1      Bob   30  Los Angeles    Male\n",
      "2  Charlie   35      Chicago    Male\n",
      "3    David   40      Houston    Male\n",
      "\n",
      "Basic statistics:\n",
      "             Age\n",
      "count   4.000000\n",
      "mean   32.500000\n",
      "std     6.454972\n",
      "min    25.000000\n",
      "25%    28.750000\n",
      "50%    32.500000\n",
      "75%    36.250000\n",
      "max    40.000000\n"
     ]
    }
   ],
   "source": [
    "import pandas as pd\n",
    "\n",
    "# Creating a DataFrame from a dictionary\n",
    "data = {'Name': ['Alice', 'Bob', 'Charlie', 'David'],\n",
    "        'Age': [25, 30, 35, 40],\n",
    "        'City': ['New York', 'Los Angeles', 'Chicago', 'Houston']}\n",
    "\n",
    "df = pd.DataFrame(data)\n",
    "\n",
    "# Displaying the DataFrame\n",
    "print(\"DataFrame:\")\n",
    "print(df)\n",
    "print()\n",
    "\n",
    "# Accessing specific columns\n",
    "print(\"Accessing specific columns:\")\n",
    "print(df['Name'])\n",
    "print(df[['Name', 'City']])\n",
    "print()\n",
    "\n",
    "# Accessing specific rows\n",
    "print(\"Accessing specific rows:\")\n",
    "print(df.loc[1])  # Accessing row by label\n",
    "print(df.iloc[2])  # Accessing row by index\n",
    "print()\n",
    "\n",
    "# Adding a new column\n",
    "df['Gender'] = ['Female', 'Male', 'Male', 'Male']\n",
    "print(\"DataFrame with a new column 'Gender':\")\n",
    "print(df)\n",
    "print()\n",
    "\n",
    "# Basic statistics\n",
    "print(\"Basic statistics:\")\n",
    "print(df.describe())\n"
   ]
  },
  {
   "cell_type": "code",
   "execution_count": 92,
   "id": "6c4f48ed-c9bc-4ae4-89cd-e2fa87a63bce",
   "metadata": {},
   "outputs": [
    {
     "data": {
      "image/png": "[encoded data removed]",
      "text/plain": [
       "<Figure size 640x480 with 1 Axes>"
      ]
     },
     "metadata": {},
     "output_type": "display_data"
    }
   ],
   "source": [
    "import seaborn as sns\n",
    "import matplotlib.pyplot as plt\n",
    "\n",
    "# Sample data\n",
    "x = [1, 2, 3, 4, 5]\n",
    "y = [2, 4, 6, 8, 10]\n",
    "\n",
    "# Creating a scatter plot using Seaborn\n",
    "sns.scatterplot(x=x, y=y)\n",
    "\n",
    "# Adding labels and title\n",
    "plt.xlabel('X-axis')\n",
    "plt.ylabel('Y-axis')\n",
    "plt.title('Scatter Plot with Seaborn')\n",
    "\n",
    "# Show plot\n",
    "plt.show()\n"
   ]
  },
  {
   "cell_type": "code",
   "execution_count": 99,
   "id": "b932695b-00cb-489e-a74e-623d636a9d13",
   "metadata": {},
   "outputs": [
    {
     "name": "stdout",
     "output_type": "stream",
     "text": [
      "Title: Python (programming language)\n",
      "\n",
      "Text: \n",
      "\n",
      "Python is a high-level, general-purpose programming language. Its design philosophy emphasizes code readability with the use of significant indentation.[32]\n",
      "\n",
      "Python is dynamically typed and garbage-collected. It supports multiple programming paradigms, including structured (particularly procedural), object-oriented and functional programming. It is often described as a \"batteries included\" language due to its comprehensive standard library.[33][34]\n",
      "\n",
      "Guido van Rossum began working on Python in the late 1980s as a successor to the ABC programming language and first released it in 1991 as Python 0.9.0.[35] Python 2.0 was released in 2000. Python 3.0, released in 2008, was a major revision not completely backward-compatible with earlier versions. Python 2.7.18, released in 2020, was the last release of Python 2.[36]\n",
      "\n",
      "Python consistently ranks as one of the most popular programming languages, and has gained widespread use in the machine learning community.[37][38][39][40]\n",
      "\n",
      "Python was invented in the late 1980s[41] by Guido van Rossum at Centrum Wiskunde & Informatica (CWI) in the Netherlands as a successor to the ABC programming language, which was inspired by SETL,[42] capable of exception handling and interfacing with the Amoeba operating system.[11] Its implementation began in December 1989.[43] Van Rossum shouldered sole responsibility for the project, as the lead developer, until 12 July 2018, when he announced his \"permanent vacation\" from his responsibilities as Python's \"benevolent dictator for life\", a title the Python community bestowed upon him to reflect his long-term commitment as the project's chief decision-maker.[44] In January 2019, active Python core developers elected a five-member Steering Council to lead the project.[45][46]\n",
      "\n",
      "Python 2.0 was released on 16 October 2000, with many major new features such as list comprehensions, cycle-detecting garbage collection, reference counting, and Unicode support.[47] Python 3.0, released on 3 December 2008, with many of its major features backported to Python 2.6.x[48] and 2.7.x. Releases of Python 3 include the 2to3 utility, which automates the translation of Python 2 code to Python 3.[49]\n",
      "\n",
      "Python 2.7's end-of-life was initially set for 2015, then postponed to 2020 out of concern that a large body of existing code could not easily be forward-ported to Python 3.[50][51] No further security patches or other improvements will be released for it.[52][53] Currently only 3.8 and later are supported (2023 security issues were fixed in e.g. 3.7.17, the final 3.7.x release[54]). While Python 2.7 and older is officially unsupported, a different unofficial Python implementation, PyPy, continues to support Python 2, i.e. \"2.7.18+\" (plus 3.9 and 3.10), with the plus meaning (at least some) \"backported security updates\".[55]\n",
      "\n",
      "In 2021 (and again twice in 2022), security updates were expedited, since all Python versions were insecure (including 2.7[56]) because of security issues leading to possible remote code execution[57] and web-cache poisoning.[58] In 2022, Python 3.10.4 and 3.9.12 were expedited[59] and 3.8.13, because of many security issues.[60] When Python 3.9.13 was released in May 2022, it was announced that the 3.9 series (joining the older series 3.8 and 3.7) would only receive security fixes in the future.[61] On 7 September 2022, four new releases were made due to a potential denial-of-service attack: 3.10.7, 3.9.14, 3.8.14, and 3.7.14.[62][63]\n",
      "\n",
      "As of October 2023,[update] Python 3.12 is the stable release, and 3.12 and 3.11 are the only versions with active (as opposed to just security) support. Notable changes in 3.11 from 3.10 include increased program execution speed and improved error reporting.[64]\n",
      "\n",
      "Python 3.12 adds syntax (and in fact every Python since at least 3.5 adds some syntax) to the language, the new (soft) keyword type (recent releases have added a lot of typing support e.g. new type union operator in 3.10), and 3.11 for exception handling, and 3.10 the match and case (soft) keywords, for structural pattern matching statements. Python 3.12 also drops outdated modules and functionality, and future versions will too, see below in Development section.\n",
      "\n",
      "Python 3.11 claims to be between 10 and 60% faster than Python 3.10, and Python 3.12 adds another 5% on top of that. It also has improved error messages, and many other changes.\n",
      "\n",
      "Since 27 June 2023[update], Python 3.8 is the oldest supported version of Python (albeit in the 'security support' phase), due to Python 3.7 reaching end-of-life.[65]\n",
      "\n",
      "Python is a multi-paradigm programming language. Object-oriented programming and structured programming are fully supported, and many of their features support functional programming and aspect-oriented programming (including metaprogramming[66] and metaobjects).[67] Many other paradigms are supported via extensions, including design by contract[68][69] and logic programming.[70]\n",
      "\n",
      "Python uses dynamic typing and a combination of reference counting and a cycle-detecting garbage collector for memory management.[71] It uses dynamic name resolution (late binding), which binds method and variable names during program execution.\n",
      "\n",
      "Its design offers some support for functional programming in the Lisp tradition. It has filter,mapandreduce functions; list comprehensions, dictionaries, sets, and generator expressions.[72] The standard library has two modules (itertools and functools) that implement functional tools borrowed from Haskell and Standard ML.[73]\n",
      "\n",
      "Its core philosophy is summarized in the Zen of Python (PEP 20), which includes aphorisms such as:[74]\n",
      "\n",
      "However, Python features regularly violate these principles and received criticism for adding unnecessary language bloat.[75][76] Responses to these criticisms are that the Zen of Python is a guideline rather than a rule.[77] The addition of some new features had been so controversial that Guido van Rossum resigned as Benevolent Dictator for Life following vitriol over the addition of the assignment expression operator in Python 3.8.[78][79]\n",
      "\n",
      "Nevertheless, rather than building all of its functionality into its core, Python was designed to be highly extensible via modules. This compact modularity has made it particularly popular as a means of adding programmable interfaces to existing applications. Van Rossum's vision of a small core language with a large standard library and easily extensible interpreter stemmed from his frustrations with ABC, which espoused the opposite approach.[41]\n",
      "\n",
      "Python claims to strive for a simpler, less-cluttered syntax and grammar while giving developers a choice in their coding methodology. In contrast to Perl's \"there is more than one way to do it\" motto, Python embraces a \"there should be one—and preferably only one—obvious way to do it.\" philosophy.[74] In practice, however, Python provides many ways to achieve the same task. There are, for example, at least three ways to format a string literal, with no certainty as to which one a programmer should use.[80] Alex Martelli, a Fellow at the Python Software Foundation and Python book author, wrote: \"To describe something as 'clever' is not considered a compliment in the Python culture.\"[81]\n",
      "\n",
      "Python's developers usually strive to avoid premature optimization and reject patches to non-critical parts of the CPython reference implementation that would offer marginal increases in speed at the cost of clarity.[82] Execution speed can be improved by moving speed-critical functions to extension modules written in languages such as C, or by using a just-in-time compiler like PyPy. It is also possible to cross-compile to other languages, but it either doesn't provide the full speed-up that might be expected, since Python is a very dynamic language, or a restricted subset of Python is compiled, and possibly semantics are slightly changed.[83]\n",
      "\n",
      "Python's developers aim for it to be fun to use. This is reflected in its name—a tribute to the British comedy group Monty Python[84]—and in occasionally playful approaches to tutorials and reference materials, such as the use of the terms \"spam\" and \"eggs\" (a reference to a Monty Python sketch) in examples, instead of the often-used \"foo\" and \"bar\".[85][86] A common neologism in the Python community is pythonic, which has a wide range of meanings related to program style. \"Pythonic\" code may use Python idioms well, be natural or show fluency in the language, or conform with Python's minimalist philosophy and emphasis on readability. Code that is difficult to understand or reads like a rough transcription from another programming language is called unpythonic.[87][88]\n",
      "\n",
      "Python is meant to be an easily readable language. Its formatting is visually uncluttered and often uses English keywords where other languages use punctuation. Unlike many other languages, it does not use curly brackets to delimit blocks, and semicolons after statements are allowed but rarely used. It has fewer syntactic exceptions and special cases than C or Pascal.[89]\n",
      "\n",
      "Python uses whitespace indentation, rather than curly brackets or keywords, to delimit blocks. An increase in indentation comes after certain statements; a decrease in indentation signifies the end of the current block.[90] Thus, the program's visual structure accurately represents its semantic structure.[91] This feature is sometimes termed the off-side rule. Some other languages use indentation this way; but in most, indentation has no semantic meaning. The recommended indent size is four spaces.[92]\n",
      "\n",
      "Python's statements include:\n",
      "\n",
      "The assignment statement (=) binds a name as a reference to a separate, dynamically allocated object. Variables may subsequently be rebound at any time to any object. In Python, a variable name is a generic reference holder without a fixed data type; however, it always refers to some object with a type. This is called dynamic typing—in contrast to statically-typed languages, where each variable may contain only a value of a certain type.\n",
      "\n",
      "Python does not support tail call optimization or first-class continuations, and, according to Van Rossum, it never will.[95][96] However, better support for coroutine-like functionality is provided by extending Python's generators.[97] Before 2.5, generators were lazy iterators; data was passed unidirectionally out of the generator. From Python 2.5 on, it is possible to pass data back into a generator function; and from version 3.3, it can be passed through multiple stack levels.[98]\n",
      "\n",
      "Python's expressions include:\n",
      "\n",
      "In Python, a distinction between expressions and statements is rigidly enforced, in contrast to languages such as Common Lisp, Scheme, or Ruby. This leads to duplicating some functionality. For example:\n",
      "\n",
      "Statements cannot be a part of an expression—so list and other comprehensions or lambda expressions, all being expressions, cannot contain statements. A particular case is that an assignment statement such as a = 1 cannot form part of the conditional expression of a conditional statement. This has the advantage of avoiding a classic C error of mistaking an assignment operator = for an equality operator == in conditions: if (c = 1) { ...} is syntactically valid (but probably unintended) C code, but if c = 1: ... causes a syntax error in Python.\n",
      "\n",
      "Methods on objects are functions attached to the object's class; the syntax instance.method(argument) is, for normal methods and functions, syntactic sugar for Class.method(instance, argument). Python methods have an explicit self parameter to access instance data, in contrast to the implicit self (or this) in some other object-oriented programming languages (e.g., C++, Java, Objective-C, Ruby).[107] Python also provides methods, often called dunder methods (due to their names beginning and ending with double-underscores), to allow user-defined classes to modify how they are handled by native operations including length, comparison, in arithmetic operations and type conversion.[108]\n",
      "\n",
      "Python uses duck typing and has typed objects but untyped variable names. Type constraints are not checked at compile time; rather, operations on an object may fail, signifying that it is not of a suitable type. Despite being dynamically typed, Python is strongly typed, forbidding operations that are not well-defined (for example, adding a number to a string) rather than silently attempting to make sense of them.\n",
      "\n",
      "Python allows programmers to define their own types using classes, most often used for object-oriented programming. New instances of classes are constructed by calling the class (for example, SpamClass() or EggsClass()), and the classes are instances of the metaclass type (itself an instance of itself), allowing metaprogramming and reflection.\n",
      "\n",
      "Before version 3.0, Python had two kinds of classes (both using the same syntax): old-style and new-style,[109] current Python versions only support the semantics new style.\n",
      "\n",
      "Python supports optional type annotations.[4][110] These annotations are not enforced by the language, but may be used by external tools such as mypy to catch errors.[111][112] Mypy also supports a Python compiler called mypyc, which leverages type annotations for optimization.[113]\n",
      "\n",
      "1.33333\n",
      "\n",
      "Python has the usual symbols for arithmetic operators (+, -, *, /), the floor division operator // and the modulo operation % (where the remainder can be negative, e.g. 4 % -3 == -2). It also has ** for exponentiation, e.g. 5**3 == 125 and 9**0.5 == 3.0, and a matrix‑multiplication operator @ .[117] These operators work like in traditional math; with the same precedence rules, the operators infix (+ and - can also be unary to represent positive and negative numbers respectively).\n",
      "\n",
      "The division between integers produces floating-point results. The behavior of division has changed significantly over time:[118]\n",
      "\n",
      "In Python terms, / is true division (or simply division), and // is floor division. / before version 3.0 is classic division.[118]\n",
      "\n",
      "Rounding towards negative infinity, though different from most languages, adds consistency. For instance, it means that the equation (a + b)//b == a//b + 1 is always true. It also means that the equation b*(a//b) + a%b == a is valid for both positive and negative values of a. However, maintaining the validity of this equation means that while the result of a%b is, as expected, in the half-open interval [0, b), where b is a positive integer, it has to lie in the interval (b, 0] when b is negative.[119]\n",
      "\n",
      "Python provides a round function for rounding a float to the nearest integer. For tie-breaking, Python 3 uses round to even: round(1.5) and round(2.5) both produce 2.[120] Versions before 3 used round-away-from-zero: round(0.5) is 1.0, round(-0.5) is −1.0.[121]\n",
      "\n",
      "Python allows Boolean expressions with multiple equality relations in a manner that is consistent with general use in mathematics. For example, the expression a < b < c tests whether a is less than b and b is less than c.[122] C-derived languages interpret this expression differently: in C, the expression would first evaluate a < b, resulting in 0 or 1, and that result would then be compared with c.[123]\n",
      "\n",
      "Python uses arbitrary-precision arithmetic for all integer operations. The Decimal type/class in the decimal module provides decimal floating-point numbers to a pre-defined arbitrary precision and several rounding modes.[124] The Fraction class in the fractions module provides arbitrary precision for rational numbers.[125]\n",
      "\n",
      "Due to Python's extensive mathematics library, and the third-party library NumPy that further extends the native capabilities, it is frequently used as a scientific scripting language to aid in problems such as numerical data processing and manipulation.[126][127]\n",
      "\n",
      "\"Hello, World!\" program:\n",
      "\n",
      "Program to calculate the factorial of a positive integer:\n",
      "\n",
      "Python's large standard library[128] provides tools suited to many tasks and is commonly cited as one of its greatest strengths. For Internet-facing applications, many standard formats and protocols such as MIME and HTTP are supported. It includes modules for creating graphical user interfaces, connecting to relational databases, generating pseudorandom numbers, arithmetic with arbitrary-precision decimals,[124] manipulating regular expressions, and unit testing.\n",
      "\n",
      "Some parts of the standard library are covered by specifications—for example, the Web Server Gateway Interface (WSGI) implementation wsgiref follows PEP 333[129]—but most are specified by their code, internal documentation, and test suites. However, because most of the standard library is cross-platform Python code, only a few modules need altering or rewriting for variant implementations.\n",
      "\n",
      "As of 17 March 2024,[update] the Python Package Index (PyPI), the official repository for third-party Python software, contains over 523,000[130] packages with a wide range of functionality, including:\n",
      "\n",
      "Most Python implementations (including CPython) include a read–eval–print loop (REPL), permitting them to function as a command line interpreter for which users enter statements sequentially and receive results immediately.\n",
      "\n",
      "Python also comes with an Integrated development environment (IDE) called IDLE, which is more beginner-oriented.\n",
      "\n",
      "Other shells, including IDLE and IPython, add further abilities such as improved auto-completion, session state retention, and syntax highlighting.\n",
      "\n",
      "As well as standard desktop integrated development environments including PyCharm, IntelliJ Idea, Visual Studio Code etc, there are web browser-based IDEs, including SageMath, for developing science- and math-related programs; PythonAnywhere, a browser-based IDE and hosting environment; and Canopy IDE, a commercial IDE emphasizing scientific computing.[131]\n",
      "\n",
      "CPython is the reference implementation of Python. It is written in C, meeting the C89 standard (Python 3.11 uses C11[132]) with several select C99 features. CPython includes its own C extensions, but third-party extensions are not limited to older C versions—e.g. they can be implemented with C11 or C++.[133][134]) It compiles Python programs into an intermediate bytecode[135] which is then executed by its virtual machine.[136] CPython is distributed with a large standard library written in a mixture of C and native Python, and is available for many platforms, including Windows (starting with Python 3.9, the Python installer deliberately fails to install on Windows 7 and 8;[137][138] Windows XP was supported until Python 3.5) and most modern Unix-like systems, including macOS (and Apple M1 Macs, since Python 3.9.1, with experimental installer) and unofficial support for e.g. VMS.[139] Platform portability was one of its earliest priorities.[140] (During Python 1 and 2 development, even OS/2 and Solaris were supported,[141] but support has since been dropped for many platforms.)\n",
      "\n",
      "Python, since 3.7, only supports operating systems with multi-threading support.\n",
      "\n",
      "Other just-in-time Python compilers have been developed, but are now unsupported:\n",
      "\n",
      "There are several compilers/transpilers to high-level object languages, with either unrestricted Python, a restricted subset of Python, or a language similar to Python as the source language:\n",
      "\n",
      "Specialized:\n",
      "\n",
      "Older projects (or not to be used with Python 3.x and latest syntax):\n",
      "\n",
      "Performance comparison of various Python implementations on a non-numerical (combinatorial) workload was presented at EuroSciPy '13.[169] Python's performance compared to other programming languages is also benchmarked by The Computer Language Benchmarks Game.[170]\n",
      "\n",
      "Python's development is conducted largely through the Python Enhancement Proposal (PEP) process, the primary mechanism for proposing major new features, collecting community input on issues, and documenting Python design decisions.[171] Python coding style is covered in PEP 8.[172] Outstanding PEPs are reviewed and commented on by the Python community and the steering council.[171]\n",
      "\n",
      "Enhancement of the language corresponds with the development of the CPython reference implementation. The mailing list python-dev is the primary forum for the language's development. Specific issues were originally discussed in the Roundup bug tracker hosted at by the foundation.[173] In 2022, all issues and discussions were migrated to GitHub.[174] Development originally took place on a self-hosted source-code repository running Mercurial, until Python moved to GitHub in January 2017.[175]\n",
      "\n",
      "CPython's public releases come in three types, distinguished by which part of the version number is incremented:\n",
      "\n",
      "Many alpha, beta, and release-candidates are also released as previews and for testing before final releases. Although there is a rough schedule for each release, they are often delayed if the code is not ready. Python's development team monitors the state of the code by running the large unit test suite during development.[181]\n",
      "\n",
      "The major academic conference on Python is PyCon. There are also special Python mentoring programs, such as PyLadies.\n",
      "\n",
      "Python 3.12 removed wstr meaning Python extensions[182] need to be modified,[183] and 3.10 added pattern matching to the language.[184]\n",
      "\n",
      "Python 3.12 dropped some outdated modules, and more will be dropped in the future, deprecated as of 3.13; already deprecated array 'u' format code will emit DeprecationWarning since 3.13 and will be removed in Python 3.16. The 'w' format code should be used instead. Part of ctypes is also deprecated and http.server.CGIHTTPRequestHandler will emit a DeprecationWarning, and will be removed in 3.15. Using that code already has a high potential for both security and functionality bugs. Parts of the typing module are deprecated, e.g. creating a typing.NamedTuple class using keyword arguments to denote the fields and such (and more) will be disallowed in Python 3.15.\n",
      "\n",
      "Tools that can generate documentation for Python API include pydoc (available as part of the standard library), Sphinx, Pdoc and its forks, Doxygen and Graphviz, among others.[185]\n",
      "\n",
      "Python's name is derived from the British comedy group Monty Python, whom Python creator Guido van Rossum enjoyed while developing the language. Monty Python references appear frequently in Python code and culture;[186] for example, the metasyntactic variables often used in Python literature are spam and eggs instead of the traditional foo and bar.[186][187] The official Python documentation also contains various references to Monty Python routines.[188][189] Users of Python are sometimes referred to as \"Pythonistas\".[190]\n",
      "\n",
      "The prefix Py- is used to show that something is related to Python. Examples of the use of this prefix in names of Python applications or libraries include Pygame, a binding of SDL to Python (commonly used to create games); PyQt and PyGTK, which bind Qt and GTK to Python respectively; and PyPy, a Python implementation originally written in Python.\n",
      "\n",
      "Since 2003, Python has consistently ranked in the top ten most popular programming languages in the TIOBE Programming Community Index where as of December 2022[update] it was the most popular language (ahead of C, C++, and Java).[39] It was selected as Programming Language of the Year (for \"the highest rise in ratings in a year\") in 2007, 2010, 2018, and 2020 (the only language to have done so four times as of 2020[update][191]).\n",
      "\n",
      "Large organizations that use Python include Wikipedia, Google,[192] Yahoo!,[193] CERN,[194] NASA,[195] Facebook,[196] Amazon, Instagram,[197] Spotify,[198] and some smaller entities like ILM[199] and ITA.[200] The social news networking site Reddit was written mostly in Python.[201]\n",
      "\n",
      "Python can serve as a scripting language for web applications, e.g. via mod_wsgi for the Apache webserver.[202] With Web Server Gateway Interface, a standard API has evolved to facilitate these applications. Web frameworks like Django, Pylons, Pyramid, TurboGears, web2py, Tornado, Flask, Bottle, and Zope support developers in the design and maintenance of complex applications. Pyjs and IronPython can be used to develop the client-side of Ajax-based applications. SQLAlchemy can be used as a data mapper to a relational database. Twisted is a framework to program communications between computers, and is used (for example) by Dropbox.\n",
      "\n",
      "Libraries such as NumPy, SciPy and Matplotlib allow the effective use of Python in scientific computing,[203][204] with specialized libraries such as Biopython and Astropy providing domain-specific functionality. SageMath is a computer algebra system with a notebook interface programmable in Python: its library covers many aspects of mathematics, including algebra, combinatorics, numerical mathematics, number theory, and calculus.[205] OpenCV has Python bindings with a rich set of features for computer vision and image processing.[206]\n",
      "\n",
      "Python is commonly used in artificial intelligence projects and machine learning projects with the help of libraries like TensorFlow, Keras, Pytorch, scikit-learn and the Logic language ProbLog.[207][208][209][210][211] As a scripting language with a modular architecture, simple syntax, and rich text processing tools, Python is often used for natural language processing.[212]\n",
      "\n",
      "The combination of Python and Prolog has proved to be particularly useful for AI applications, with Prolog providing knowledge representation and reasoning capablities. The Janus system, in particular, exploits the similarites between these two languages,\n",
      "in part because of their use of dynamic typing, and the simple recursive nature of their\n",
      "data structures. Typical applications of this combination include  natural language processing, visual query\n",
      "answering, geospatial reasoning, and handling of semantic web data.[213][214]\n",
      "The Natlog system, implemented in Python, uses Definite Clause Grammars (DCGs) as prompt generators for text-to-text generators like GPT3 and text-to-image generators like DALL-E or Stable Diffusion.[215]\n",
      "\n",
      "Python can also be used for graphical user interface (GUI) by using libraries like Tkinter.[216][217]\n",
      "\n",
      "Python has been successfully embedded in many software products as a scripting language, including in finite element method software such as Abaqus, 3D parametric modelers like FreeCAD, 3D animation packages such as 3ds Max, Blender, Cinema 4D, Lightwave, Houdini, Maya, modo, MotionBuilder, Softimage, the visual effects compositor Nuke, 2D imaging programs like GIMP,[218] Inkscape, Scribus and Paint Shop Pro,[219] and musical notation programs like scorewriter and capella. GNU Debugger uses Python as a pretty printer to show complex structures such as C++ containers. Esri promotes Python as the best choice for writing scripts in ArcGIS.[220] It has also been used in several video games,[221][222] and has been adopted as first of the three available programming languages in Google App Engine, the other two being Java and Go.[223]\n",
      "\n",
      "Many operating systems include Python as a standard component. It ships with most Linux distributions,[224] AmigaOS 4 (using Python 2.7), FreeBSD (as a package), NetBSD, and OpenBSD (as a package) and can be used from the command line (terminal). Many Linux distributions use installers written in Python: Ubuntu uses the Ubiquity installer, while Red Hat Linux and Fedora Linux use the Anaconda installer. Gentoo Linux uses Python in its package management system, Portage.\n",
      "\n",
      "Python is used extensively in the information security industry, including in exploit development.[225][226]\n",
      "\n",
      "Most of the Sugar software for the One Laptop per Child XO, developed at Sugar Labs as of 2008[update], is written in Python.[227] The Raspberry Pi single-board computer project has adopted Python as its main user-programming language.\n",
      "\n",
      "LibreOffice includes Python and intends to replace Java with Python. Its Python Scripting Provider is a core feature[228] since Version 4.0 from 7 February 2013.\n",
      "\n",
      "Python's design and philosophy have influenced many other programming languages:\n",
      "\n",
      "Python's development practices have also been emulated by other languages. For example, the practice of requiring a document describing the rationale for, and issues surrounding, a change to the language (in Python, a PEP) is also used in Tcl,[240] Erlang,[241] and Swift.[242]\n",
      "\n"
     ]
    }
   ],
   "source": [
    "from bs4 import BeautifulSoup\n",
    "import requests\n",
    "\n",
    "# URL of the webpage to scrape\n",
    "url = 'https://en.wikipedia.org/wiki/Python_(programming_language)'\n",
    "\n",
    "# Sending a GET request to the URL\n",
    "response = requests.get(url)\n",
    "\n",
    "# Parsing the HTML content\n",
    "soup = BeautifulSoup(response.content, 'html.parser')\n",
    "\n",
    "# Finding a specific element by its tag and class\n",
    "title = soup.find('h1', class_='firstHeading').text\n",
    "\n",
    "# Finding all paragraph elements\n",
    "paragraphs = soup.find_all('p')\n",
    "\n",
    "# Extracting text from paragraphs\n",
    "text = '\\n'.join([p.text for p in paragraphs])\n",
    "\n",
    "# Printing the title and text\n",
    "print(\"Title:\", title)\n",
    "print(\"\\nText:\", text)\n"
   ]
  },
  {
   "cell_type": "code",
   "execution_count": 102,
   "id": "216eed7f-ab61-4910-865c-458a683aad4d",
   "metadata": {},
   "outputs": [
    {
     "name": "stdout",
     "output_type": "stream",
     "text": [
      "Website data fetched successfully!\n",
      "Data: b'<!doctype html><html lang=\"en-IN\"><head><meta charset=\"UTF-8\"><meta content=\"/images/branding/googleg/1x/googleg_standard_color_128dp.png\" itemprop=\"image\"><title>motion of knowledge - Google Search</title><script nonce=\"mzLPPG7psmrQd3VYq_qO0g\">(function(){\\ndocument.documentElement.addEventListener(\"submit\",function(b){var a;if(a=b.target){var c=a.getAttribute(\"data-submitfalse\");a=\"1\"===c||\"q\"===c&&!a.elements.q.value?!0:!1}else a=!1;a&&(b.preventDefault(),b.stopPropagation())},!0);document.documentElement.addEventListener(\"click\",function(b){var a;a:{for(a=b.target;a&&a!==document.documentElement;a=a.parentElement)if(\"A\"===a.tagName){a=\"1\"===a.getAttribute(\"data-nohref\");break a}a=!1}a&&b.preventDefault()},!0);}).call(this);(function(){var a=window.performance;window.start=Date.now();a:{var b=window;if(a){var c=a.timing;if(c){var d=c.navigationStart,f=c.responseStart;if(f>d&&f<=window.start){window.start=f;b.wsrt=f-d;break a}}a.now&&(b.wsrt=Math.floor(a.now()))}}window.google=window.'\n"
     ]
    }
   ],
   "source": [
    "import requests\n",
    "\n",
    "def fetch_website_data(url):\n",
    "    try:\n",
    "        # Sending a GET request to the URL\n",
    "        response = requests.get(url)\n",
    "\n",
    "        # Checking if the request was successful (status code 200)\n",
    "        if response.status_code == 200:\n",
    "            # Returning the content of the response\n",
    "            return response.content\n",
    "        else:\n",
    "            print(\"Error: Failed to fetch data. Status code:\", response.status_code)\n",
    "            return None\n",
    "    except Exception as e:\n",
    "        print(\"Error:\", e)\n",
    "        return None\n",
    "\n",
    "# Example usage\n",
    "url = 'https://www.google.com/search?client=firefox-b-d&q=motion+of+knowledge'  # Replace this URL with the desired website URL\n",
    "website_data = fetch_website_data(url)\n",
    "\n",
    "if website_data:\n",
    "    print(\"Website data fetched successfully!\")\n",
    "    print(\"Data:\", website_data[:1000])  # Print the first 1000 characters of the data\n",
    "else:\n",
    "    print(\"Failed to fetch website data.\")\n"
   ]
  },
  {
   "cell_type": "code",
   "execution_count": null,
   "id": "473a5020-878f-466d-af17-c1fc947053d9",
   "metadata": {},
   "outputs": [],
   "source": []
  },
  {
   "cell_type": "code",
   "execution_count": 122,
   "id": "9d71e377-0efd-4bff-bb40-c5c1d0dfcf29",
   "metadata": {},
   "outputs": [
    {
     "name": "stdout",
     "output_type": "stream",
     "text": [
      "2 Icecream dedo\n"
     ]
    }
   ],
   "source": [
    "i= 2\n",
    "y= 'Icecream dedo'\n",
    "print(i,y)"
   ]
  },
  {
   "cell_type": "code",
   "execution_count": null,
   "id": "be4e180b-e130-4b0b-9d0b-506c5065e866",
   "metadata": {},
   "outputs": [],
   "source": []
  }
 ],
 "metadata": {
  "kernelspec": {
   "display_name": "Python 3 (ipykernel)",
   "language": "python",
   "name": "python3"
  },
  "language_info": {
   "codemirror_mode": {
    "name": "ipython",
    "version": 3
   },
   "file_extension": ".py",
   "mimetype": "text/x-python",
   "name": "python",
   "nbconvert_exporter": "python",
   "pygments_lexer": "ipython3",
   "version": "3.11.7"
  }
 },
 "nbformat": 4,
 "nbformat_minor": 5
}
