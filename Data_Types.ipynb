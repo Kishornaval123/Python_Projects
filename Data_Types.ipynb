{
 "cells": [
  {
   "cell_type": "code",
   "execution_count": 63,
   "id": "a2ad9213-5057-43b8-9eb3-987439b68f96",
   "metadata": {
    "tags": []
   },
   "outputs": [
    {
     "name": "stdout",
     "output_type": "stream",
     "text": [
      "Har Har Mahadev\n"
     ]
    }
   ],
   "source": [
    "print('Har Har Mahadev')"
   ]
  },
  {
   "cell_type": "code",
   "execution_count": 64,
   "id": "11a0617a-b3aa-4fed-b2f2-44c3a866771f",
   "metadata": {
    "tags": []
   },
   "outputs": [],
   "source": [
    "#use Multiple Lines \n"
   ]
  },
  {
   "cell_type": "code",
   "execution_count": 66,
   "id": "f1293efc-fbf2-4103-953d-de78db68e797",
   "metadata": {
    "tags": []
   },
   "outputs": [
    {
     "name": "stdout",
     "output_type": "stream",
     "text": [
      "Jaki rhai bhawana \n",
      "jaisi prabhu murat dekhi \n",
      "tin tesi\n"
     ]
    }
   ],
   "source": [
    "a=\"\"\"Jaki rhai bhawana \n",
    "jaisi prabhu murat dekhi \n",
    "tin tesi\"\"\"\n",
    "print(a)"
   ]
  },
  {
   "cell_type": "code",
   "execution_count": 67,
   "id": "36cc9b08-28f2-4bdc-b924-290244f275f5",
   "metadata": {
    "tags": []
   },
   "outputs": [],
   "source": [
    "# Python Data Types\n"
   ]
  },
  {
   "cell_type": "code",
   "execution_count": 68,
   "id": "6d42ffaf-302c-4ade-b572-f92f41dc3e20",
   "metadata": {
    "tags": []
   },
   "outputs": [],
   "source": [
    "#String Data type \n"
   ]
  },
  {
   "cell_type": "code",
   "execution_count": 69,
   "id": "da2e4641-94c0-4468-bf99-00d2200e1905",
   "metadata": {
    "tags": []
   },
   "outputs": [
    {
     "data": {
      "text/plain": [
       "str"
      ]
     },
     "execution_count": 69,
     "metadata": {},
     "output_type": "execute_result"
    }
   ],
   "source": [
    "x=\"Mahadev\"\n",
    "type(x)"
   ]
  },
  {
   "cell_type": "code",
   "execution_count": 70,
   "id": "8cbbf4bc-9398-4922-8e58-abe538d41f61",
   "metadata": {
    "tags": []
   },
   "outputs": [],
   "source": [
    "#Integer Data Types\n"
   ]
  },
  {
   "cell_type": "code",
   "execution_count": 71,
   "id": "ae888704-6b3e-4216-8d9b-9c6bf01169f6",
   "metadata": {
    "tags": []
   },
   "outputs": [
    {
     "data": {
      "text/plain": [
       "int"
      ]
     },
     "execution_count": 71,
     "metadata": {},
     "output_type": "execute_result"
    }
   ],
   "source": [
    "a=20\n",
    "type(a)"
   ]
  },
  {
   "cell_type": "code",
   "execution_count": 72,
   "id": "37a19201-d9b4-4809-b0a3-bb4e0db7aba3",
   "metadata": {
    "tags": []
   },
   "outputs": [],
   "source": [
    "#Float data type\n"
   ]
  },
  {
   "cell_type": "code",
   "execution_count": 73,
   "id": "2ef12cfd-6a25-40d0-a4e9-400dc5f74296",
   "metadata": {
    "tags": []
   },
   "outputs": [
    {
     "data": {
      "text/plain": [
       "float"
      ]
     },
     "execution_count": 73,
     "metadata": {},
     "output_type": "execute_result"
    }
   ],
   "source": [
    "b=20.56\n",
    "type(b)"
   ]
  },
  {
   "cell_type": "code",
   "execution_count": 74,
   "id": "dbc38fa4-4fcd-45b6-918d-8166f5de7495",
   "metadata": {
    "tags": []
   },
   "outputs": [],
   "source": [
    "#Comples Data type\n"
   ]
  },
  {
   "cell_type": "code",
   "execution_count": 75,
   "id": "b756baa7-3267-44c2-ae5d-3d7ecf86ddc0",
   "metadata": {
    "tags": []
   },
   "outputs": [
    {
     "data": {
      "text/plain": [
       "complex"
      ]
     },
     "execution_count": 75,
     "metadata": {},
     "output_type": "execute_result"
    }
   ],
   "source": [
    "c=5j\n",
    "type(c)\n"
   ]
  },
  {
   "cell_type": "code",
   "execution_count": 79,
   "id": "df49ba0e-2fad-4dc7-8808-21e1c5b285c4",
   "metadata": {
    "tags": []
   },
   "outputs": [],
   "source": [
    "# List Data type"
   ]
  },
  {
   "cell_type": "code",
   "execution_count": 76,
   "id": "7a0e19c6-5a47-4ef4-92dc-8261e1a9370a",
   "metadata": {
    "tags": []
   },
   "outputs": [
    {
     "data": {
      "text/plain": [
       "list"
      ]
     },
     "execution_count": 76,
     "metadata": {},
     "output_type": "execute_result"
    }
   ],
   "source": [
    "w= [\"apple\", \"banana\", \"cherry\"]\n",
    "type(w)"
   ]
  },
  {
   "cell_type": "code",
   "execution_count": 80,
   "id": "7fdf5ab4-84b3-47f1-b8e3-4c381bee6a8b",
   "metadata": {
    "tags": []
   },
   "outputs": [],
   "source": [
    "# Touple data type\n"
   ]
  },
  {
   "cell_type": "code",
   "execution_count": 77,
   "id": "800c4007-b41a-4e6a-90d7-b24671f49d6e",
   "metadata": {
    "tags": []
   },
   "outputs": [
    {
     "data": {
      "text/plain": [
       "tuple"
      ]
     },
     "execution_count": 77,
     "metadata": {},
     "output_type": "execute_result"
    }
   ],
   "source": [
    "p=('Ram', 'krishna', 'bhagwan')\n",
    "type(p)"
   ]
  },
  {
   "cell_type": "code",
   "execution_count": 81,
   "id": "9925f855-9cde-49ca-acd5-9d68920576cf",
   "metadata": {
    "tags": []
   },
   "outputs": [],
   "source": [
    "#Range data type"
   ]
  },
  {
   "cell_type": "code",
   "execution_count": 78,
   "id": "2d666455-6710-42a8-a362-98c792d976c0",
   "metadata": {
    "tags": []
   },
   "outputs": [
    {
     "data": {
      "text/plain": [
       "range"
      ]
     },
     "execution_count": 78,
     "metadata": {},
     "output_type": "execute_result"
    }
   ],
   "source": [
    "x=range(7)\n",
    "type(x)"
   ]
  },
  {
   "cell_type": "code",
   "execution_count": 82,
   "id": "af236b7f-fa58-4f58-ba1d-89f44630f254",
   "metadata": {
    "tags": []
   },
   "outputs": [],
   "source": [
    "#Dict Data type\n"
   ]
  },
  {
   "cell_type": "code",
   "execution_count": 84,
   "id": "23185d8c-d7c1-4ad9-aa2a-2e433a9f6303",
   "metadata": {
    "tags": []
   },
   "outputs": [
    {
     "data": {
      "text/plain": [
       "dict"
      ]
     },
     "execution_count": 84,
     "metadata": {},
     "output_type": "execute_result"
    }
   ],
   "source": [
    "x={\"name\":\"Naval\", \"Age\":\"21\"}\n",
    "type(x)"
   ]
  },
  {
   "cell_type": "code",
   "execution_count": 85,
   "id": "de3f731c-90ce-4a69-b48a-ac96ad4f5c35",
   "metadata": {
    "tags": []
   },
   "outputs": [],
   "source": [
    "#Set Data type \n"
   ]
  },
  {
   "cell_type": "code",
   "execution_count": 86,
   "id": "85c65cb2-461c-4b63-b767-f63cb369f287",
   "metadata": {
    "tags": []
   },
   "outputs": [
    {
     "data": {
      "text/plain": [
       "set"
      ]
     },
     "execution_count": 86,
     "metadata": {},
     "output_type": "execute_result"
    }
   ],
   "source": [
    "x={\"apple\",\"banana\", \"cherry\"}\n",
    "type(x)"
   ]
  },
  {
   "cell_type": "code",
   "execution_count": 91,
   "id": "8b6e68c5-4126-4bf1-bfa5-080effa138bf",
   "metadata": {
    "tags": []
   },
   "outputs": [],
   "source": [
    "#Frozenset Data type\n"
   ]
  },
  {
   "cell_type": "code",
   "execution_count": 88,
   "id": "5a09adf4-728d-4971-bc68-084c0b8a0f8a",
   "metadata": {
    "tags": []
   },
   "outputs": [
    {
     "data": {
      "text/plain": [
       "frozenset"
      ]
     },
     "execution_count": 88,
     "metadata": {},
     "output_type": "execute_result"
    }
   ],
   "source": [
    "x=frozenset({'apple', 'banana', 'cherry'})\n",
    "type(x)"
   ]
  },
  {
   "cell_type": "code",
   "execution_count": 94,
   "id": "002bf584-eaf8-40c5-a555-c881352b346e",
   "metadata": {
    "tags": []
   },
   "outputs": [],
   "source": [
    "# Python Numbers \n",
    "# there is three numeric types in python\n",
    "# 1. Int(Integer) 2. Float(Decimal) 3. Complex\n",
    "#Example"
   ]
  },
  {
   "cell_type": "code",
   "execution_count": 102,
   "id": "c2124bad-43b1-4378-87e1-aeca6cb8205a",
   "metadata": {
    "tags": []
   },
   "outputs": [
    {
     "name": "stdout",
     "output_type": "stream",
     "text": [
      "<class 'int'>\n",
      "<class 'float'>\n",
      "<class 'complex'>\n"
     ]
    }
   ],
   "source": [
    "x=1    #Int\n",
    "y=2.5  #Float\n",
    "z=7j   #comlex\n",
    "print(type(x))\n",
    "print(type(y))\n",
    "print(type(z))"
   ]
  },
  {
   "cell_type": "code",
   "execution_count": 104,
   "id": "272f739b-1a0a-41be-a1e0-b8dad9c520af",
   "metadata": {
    "tags": []
   },
   "outputs": [],
   "source": [
    "#Type Converstion\n",
    "#You can convert from one type to another with the  Int(), Float() and complex() methods:\n",
    "#Examples:"
   ]
  },
  {
   "cell_type": "code",
   "execution_count": 106,
   "id": "d50597c2-3884-488f-9240-ff93333871cd",
   "metadata": {
    "tags": []
   },
   "outputs": [
    {
     "name": "stdout",
     "output_type": "stream",
     "text": [
      "1.0\n",
      "2\n",
      "(1+0j)\n"
     ]
    }
   ],
   "source": [
    "#Convert from one type to another \n",
    "x=1\n",
    "y=2.8\n",
    "z=1j\n",
    "a=float(x)\n",
    "b=int(y)\n",
    "c=complex(x)\n",
    "print(a)\n",
    "print(b)\n",
    "print(c)\n",
    "# Can't convert complex into any another data type"
   ]
  },
  {
   "cell_type": "code",
   "execution_count": 109,
   "id": "21fb3c07-84f9-4cff-b422-e1f2297b875c",
   "metadata": {
    "tags": []
   },
   "outputs": [
    {
     "name": "stdout",
     "output_type": "stream",
     "text": [
      "9\n"
     ]
    }
   ],
   "source": [
    "import random\n",
    "print(random.randrange(1,10))"
   ]
  },
  {
   "cell_type": "code",
   "execution_count": 110,
   "id": "e5f573af-9820-4847-96e1-c10b75f60c29",
   "metadata": {
    "tags": []
   },
   "outputs": [
    {
     "name": "stdout",
     "output_type": "stream",
     "text": [
      "9\n"
     ]
    }
   ],
   "source": [
    "import random\n",
    "print(random.randrange(1,10))"
   ]
  },
  {
   "cell_type": "code",
   "execution_count": 111,
   "id": "08dedc6d-d8bb-4bec-8cfa-87b0cbd0b97f",
   "metadata": {
    "tags": []
   },
   "outputs": [
    {
     "name": "stdout",
     "output_type": "stream",
     "text": [
      "8\n"
     ]
    }
   ],
   "source": [
    "import random\n",
    "print(random.randrange(1,10))"
   ]
  },
  {
   "cell_type": "code",
   "execution_count": 112,
   "id": "f3d3403b-b676-4441-82f4-fecaab3dd584",
   "metadata": {
    "tags": []
   },
   "outputs": [
    {
     "name": "stdout",
     "output_type": "stream",
     "text": [
      "6\n"
     ]
    }
   ],
   "source": [
    "import random\n",
    "print(random.randrange(1,10))"
   ]
  },
  {
   "cell_type": "code",
   "execution_count": 113,
   "id": "e017132f-2b50-47b7-ad98-2a69ae8e3a3b",
   "metadata": {
    "tags": []
   },
   "outputs": [
    {
     "name": "stdout",
     "output_type": "stream",
     "text": [
      "5\n"
     ]
    }
   ],
   "source": [
    "import random\n",
    "print(random.randrange(1,10))"
   ]
  },
  {
   "cell_type": "code",
   "execution_count": 114,
   "id": "12b1ea82-3272-4cb8-addf-ce4510ab177f",
   "metadata": {
    "tags": []
   },
   "outputs": [
    {
     "name": "stdout",
     "output_type": "stream",
     "text": [
      "8\n"
     ]
    }
   ],
   "source": [
    "import random\n",
    "print(random.randrange(1,10))"
   ]
  },
  {
   "cell_type": "code",
   "execution_count": 115,
   "id": "38d4d87f-e51d-465c-8d82-f27d1f3b2cc9",
   "metadata": {
    "tags": []
   },
   "outputs": [
    {
     "name": "stdout",
     "output_type": "stream",
     "text": [
      "9\n"
     ]
    }
   ],
   "source": [
    "import random\n",
    "print(random.randrange(1,10))"
   ]
  },
  {
   "cell_type": "code",
   "execution_count": 119,
   "id": "f13fdbd4-f819-4924-ad37-d017261a6369",
   "metadata": {
    "tags": []
   },
   "outputs": [
    {
     "name": "stdout",
     "output_type": "stream",
     "text": [
      "2\n"
     ]
    }
   ],
   "source": [
    "y=int(2.6)\n",
    "print(y)"
   ]
  },
  {
   "cell_type": "code",
   "execution_count": 120,
   "id": "73e71435-220b-4b85-90ff-41d8ac423e13",
   "metadata": {
    "tags": []
   },
   "outputs": [
    {
     "name": "stdout",
     "output_type": "stream",
     "text": [
      "3\n"
     ]
    }
   ],
   "source": [
    "y=int(3)\n",
    "print(y)"
   ]
  },
  {
   "cell_type": "code",
   "execution_count": 128,
   "id": "d733eda2-0818-49e1-9df9-4a00a83202f1",
   "metadata": {
    "tags": []
   },
   "outputs": [],
   "source": [
    "#Looping Through A String\n",
    "# Since string are arrays, we can loop through the character in a string, with a \"FOR\" loop.\n"
   ]
  },
  {
   "cell_type": "code",
   "execution_count": 129,
   "id": "7a9967f4-06d6-41c4-ac05-1785c0afab85",
   "metadata": {
    "tags": []
   },
   "outputs": [
    {
     "name": "stdout",
     "output_type": "stream",
     "text": [
      "b\n",
      "a\n",
      "n\n",
      "a\n",
      "n\n",
      "a\n"
     ]
    }
   ],
   "source": [
    "for x in \"banana\":\n",
    "    print(x)"
   ]
  },
  {
   "cell_type": "code",
   "execution_count": 130,
   "id": "eae630dc-7f7e-4f77-aad9-c875da2d06f3",
   "metadata": {
    "tags": []
   },
   "outputs": [],
   "source": [
    "# String Length by function len()\n"
   ]
  },
  {
   "cell_type": "code",
   "execution_count": 132,
   "id": "7c35cc69-c64b-4939-a8f2-e331ec384ec2",
   "metadata": {
    "tags": []
   },
   "outputs": [
    {
     "name": "stdout",
     "output_type": "stream",
     "text": [
      "11\n"
     ]
    }
   ],
   "source": [
    "a= \"Who is modi\"\n",
    "print(len(a))"
   ]
  },
  {
   "cell_type": "code",
   "execution_count": 142,
   "id": "38596471-10ee-45e6-a911-c774c80692af",
   "metadata": {},
   "outputs": [],
   "source": [
    "#touple Data types|"
   ]
  },
  {
   "cell_type": "code",
   "execution_count": 143,
   "id": "be045f96-f7c6-4d02-aa16-4228c3fd7793",
   "metadata": {
    "tags": []
   },
   "outputs": [
    {
     "data": {
      "text/plain": [
       "tuple"
      ]
     },
     "execution_count": 143,
     "metadata": {},
     "output_type": "execute_result"
    }
   ],
   "source": [
    "touple_scoop= (1,2,3,2,1)\n",
    "type(touple_scoop)"
   ]
  },
  {
   "cell_type": "code",
   "execution_count": 144,
   "id": "0219feb1-1fa5-43da-b413-a06b48c12ed8",
   "metadata": {
    "tags": []
   },
   "outputs": [
    {
     "data": {
      "text/plain": [
       "1"
      ]
     },
     "execution_count": 144,
     "metadata": {},
     "output_type": "execute_result"
    }
   ],
   "source": [
    "touple_scoop[0]"
   ]
  },
  {
   "cell_type": "code",
   "execution_count": null,
   "id": "12a93a1d-15b7-40b1-b04e-af1e08ab4184",
   "metadata": {
    "tags": []
   },
   "outputs": [],
   "source": [
    "#Check String \n",
    "#to  check if a certain character is present in string , we can use key word 'in'"
   ]
  },
  {
   "cell_type": "code",
   "execution_count": 150,
   "id": "402aa3af-4d5e-4d03-8ef5-5ae41b6a8199",
   "metadata": {
    "tags": []
   },
   "outputs": [
    {
     "name": "stdout",
     "output_type": "stream",
     "text": [
      "True\n"
     ]
    }
   ],
   "source": [
    "txt=\" India had great leaders like- Chatrapati Shivaji Maharaj\"\n",
    "print('Shivaji' in txt)"
   ]
  },
  {
   "cell_type": "code",
   "execution_count": 151,
   "id": "537fcbfe-e609-498f-8929-1e05042a8679",
   "metadata": {
    "tags": []
   },
   "outputs": [],
   "source": [
    "# Use it with if statement"
   ]
  },
  {
   "cell_type": "code",
   "execution_count": 159,
   "id": "79b3c7d3-998f-41b6-bcc9-165a3b78220b",
   "metadata": {
    "tags": []
   },
   "outputs": [
    {
     "name": "stdout",
     "output_type": "stream",
     "text": [
      "yes its present\n"
     ]
    }
   ],
   "source": [
    "txt=\" India had great leaders like- Chatrapati Shivaji Maharaj\"\n",
    "if 'Shivaji' in txt:\n",
    "    print('yes its present')"
   ]
  },
  {
   "cell_type": "code",
   "execution_count": null,
   "id": "7171f1d0-ec83-4451-b4c5-9104e72e8e74",
   "metadata": {},
   "outputs": [],
   "source": [
    " "
   ]
  }
 ],
 "metadata": {
  "kernelspec": {
   "display_name": "Python 3 (ipykernel)",
   "language": "python",
   "name": "python3"
  },
  "language_info": {
   "codemirror_mode": {
    "name": "ipython",
    "version": 3
   },
   "file_extension": ".py",
   "mimetype": "text/x-python",
   "name": "python",
   "nbconvert_exporter": "python",
   "pygments_lexer": "ipython3",
   "version": "3.11.7"
  }
 },
 "nbformat": 4,
 "nbformat_minor": 5
}
